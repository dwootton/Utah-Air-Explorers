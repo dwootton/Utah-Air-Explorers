{
  "nbformat": 4,
  "nbformat_minor": 0,
  "metadata": {
    "colab": {
      "name": "Project Proposal.ipynb",
      "version": "0.3.2",
      "provenance": [],
      "collapsed_sections": [],
      "include_colab_link": true
    },
    "kernelspec": {
      "name": "python3",
      "display_name": "Python 3"
    }
  },
  "cells": [
    {
      "cell_type": "markdown",
      "metadata": {
        "id": "view-in-github",
        "colab_type": "text"
      },
      "source": [
        "<a href=\"https://colab.research.google.com/github/dwootton/Utah-Air-Explorers/blob/master/Project_Proposal.ipynb\" target=\"_parent\"><img src=\"https://colab.research.google.com/assets/colab-badge.svg\" alt=\"Open In Colab\"/></a>"
      ]
    },
    {
      "metadata": {
        "id": "n-bMBxngX8HA",
        "colab_type": "text"
      },
      "cell_type": "markdown",
      "source": [
        "# Project Proposal: Utah Air Explorers\n",
        "*COMP 5360 / MATH 4100, University of Utah, http://datasciencecourse.net/*\n",
        "\n",
        "*Names:* Dylan Wootton (u0785389), Joshua Cragun (u1025691)\n",
        "\n",
        "*Emails:* wootton.dylan@gmail.com, jmcragun@gmail.com\n",
        "\n"
      ]
    },
    {
      "metadata": {
        "id": "tVR-aVhdapsV",
        "colab_type": "text"
      },
      "cell_type": "markdown",
      "source": [
        "## Background and Motivation\n",
        "\n"
      ]
    },
    {
      "metadata": {
        "id": "NN2sSvgJay_5",
        "colab_type": "text"
      },
      "cell_type": "markdown",
      "source": [
        "## Project Objectives"
      ]
    },
    {
      "metadata": {
        "id": "q999GQ6Na3o8",
        "colab_type": "text"
      },
      "cell_type": "markdown",
      "source": [
        "## Data"
      ]
    },
    {
      "metadata": {
        "id": "GjmHACT5a5cZ",
        "colab_type": "text"
      },
      "cell_type": "markdown",
      "source": [
        "## Ethical Considerations"
      ]
    },
    {
      "metadata": {
        "id": "wJGkM_kjbHGJ",
        "colab_type": "text"
      },
      "cell_type": "markdown",
      "source": [
        "## Data Processing"
      ]
    },
    {
      "metadata": {
        "id": "Ow9GwRIdbQ9G",
        "colab_type": "text"
      },
      "cell_type": "markdown",
      "source": [
        "## Exploratory Analysis"
      ]
    },
    {
      "metadata": {
        "id": "JFgUy6G8bT1_",
        "colab_type": "text"
      },
      "cell_type": "markdown",
      "source": [
        "## Analysis Methodology"
      ]
    },
    {
      "metadata": {
        "id": "8G7-xOSEbVuw",
        "colab_type": "text"
      },
      "cell_type": "markdown",
      "source": [
        "## Project Schedule\n",
        "\n",
        "Week of March 4th : Obtaining Data, Inital Analysis.\n",
        "\n",
        "\n",
        "> This week will focus on obtaining sensor data, hisotrical weather data, and elevation data for all of the sensors. Using this data, we will conduct an inital analysis that will invovle creating some of the visualizations discussed in the exploratory data analysis section. \n",
        "\n",
        "\n",
        "Week of March 11th : Cleaning Data, Finished Exploratory Analysis. \n",
        "\n",
        "> The data obtained in the previous week will be merged together to create a centralized pandas data frame. This will allow for analysis to be conducted on a centralized data frame without the need to stitch different data frames together to conduct our individual analysis. During this week, we will finish our exploratory analysis. \n",
        "\n",
        "Week of March 18th : Variable Analysis.\n",
        "\n",
        "> We will extend our exploratory data analysis and look into more indepth relationships between different parameters. This will heavily utilize the methods discussed in class such as regression. \n",
        "\n",
        "Week of March 25th : Clustering Analysis\n",
        "> This week, clustering analysis will be performed on our data set. This will involve classifying based upon location and elevation. \n",
        "\n",
        "\n",
        "Week of April 1st : Classification Analysis\n",
        "> This week, classification of outliers will be performed on our data as well as classification of inversion states. \n",
        "\n",
        "Week of April 8th : Develop Convolutional LSTM for Analysis.\n",
        "> A convolutional LSTM will be developed to analyze the sensor data. This was placed last in the project timeline as it represents the most difficult method to implement.\n",
        "\n",
        "Week of April 15th : Wrap up project. Write up results in notebook. Film Demo Video. \n"
      ]
    },
    {
      "metadata": {
        "id": "ArIjKMkidErL",
        "colab_type": "text"
      },
      "cell_type": "markdown",
      "source": [
        "## Bibliography"
      ]
    },
    {
      "metadata": {
        "id": "klM2humJD38Z",
        "colab_type": "code",
        "colab": {}
      },
      "cell_type": "code",
      "source": [
        ""
      ],
      "execution_count": 0,
      "outputs": []
    }
  ]
}