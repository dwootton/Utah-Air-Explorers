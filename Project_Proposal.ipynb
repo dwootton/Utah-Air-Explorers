{
  "nbformat": 4,
  "nbformat_minor": 0,
  "metadata": {
    "colab": {
      "name": "Project Proposal.ipynb",
      "version": "0.3.2",
      "provenance": [],
      "collapsed_sections": [],
      "include_colab_link": true
    },
    "kernelspec": {
      "name": "python3",
      "display_name": "Python 3"
    }
  },
  "cells": [
    {
      "cell_type": "markdown",
      "metadata": {
        "id": "view-in-github",
        "colab_type": "text"
      },
      "source": [
        "<a href=\"https://colab.research.google.com/github/dwootton/Utah-Air-Explorers/blob/master/Project_Proposal.ipynb\" target=\"_parent\"><img src=\"https://colab.research.google.com/assets/colab-badge.svg\" alt=\"Open In Colab\"/></a>"
      ]
    },
    {
      "metadata": {
        "id": "n-bMBxngX8HA",
        "colab_type": "text"
      },
      "cell_type": "markdown",
      "source": [
        "# Project Proposal: Utah Air Explorers\n",
        "*COMP 5360 / MATH 4100, University of Utah, http://datasciencecourse.net/*\n",
        "\n",
        "*Names:* Dylan Wootton (u0785389), Joshua Cragun (u1025691)\n",
        "\n",
        "*Emails:* wootton.dylan@gmail.com, jmcragun@gmail.com\n",
        "\n"
      ]
    },
    {
      "metadata": {
        "id": "tVR-aVhdapsV",
        "colab_type": "text"
      },
      "cell_type": "markdown",
      "source": [
        "## Background and Motivation\n",
        "\n",
        "Air pollution, while already considered to be an inconvience by many, is in fact a serious threat to public safety to people around the world. Utah is no exception. According to the United Health Foundation, Utah ranks at #36, leaving significant room for improvement [[1]](https://www.americashealthrankings.org/explore/annual/measure/air/state/ALL).  \n",
        "\n",
        "<a href=\"https://imgbb.com/\"><img src=\"https://i.ibb.co/jG4DVwy/image.png\" alt=\"Air Pollution in SLC\" border=\"0\"></a>\n",
        "\n",
        "The effects of Utah's poor air quality has not gone by unnoticed-- in fact, as many as 2,000 Utahns die prematurely due to health effects caused by air pollution [[2]](https://archive.sltrib.com/article.php?id=55686497&itype=cmsid). Although to many it may appear to be the case that the air quality is ubiquitous throughout Salt Lake county, however in reality air quality can vary significantly within distances as small as 50 meters [[3]](https://www.sciencedirect.com/science/article/pii/S0048969712013988). As such, a campus group has focused on building and deploying dozens of low cost air pollution sensors across Salt Lake Valley. This data can be analyzed to gauge the distribution and influencing factors of air quality. The information provided by a well formed data analysis of air quality in Salt Lake City could be used to inform better public policy for reducing air pollution and improving public health of Salt Lake City as a result."
      ]
    },
    {
      "metadata": {
        "id": "NN2sSvgJay_5",
        "colab_type": "text"
      },
      "cell_type": "markdown",
      "source": [
        "## Project Objectives\n",
        "\n",
        "There are a variety of questions that we are hoping to answer through this project. \n",
        "\n",
        "* What other parameters have a relationship with air pollution? Elevation, Humidity, Temperature, etc?\n",
        "* Are any sensors 'misbehaving'? That is do their readings have outliers? \n",
        "* Are particular areas in SLC affected more than others during periods of high pollution? \n",
        "* Can you determine if a temperature inversion has occurred from the sensor data? \n",
        "* Are there weekly trends? Are there spikes in pollution levels during traffic times? \n",
        "* What is your exposure to pollution at certain locations that may not have a nearby sensor? \n",
        "* What is the average exposure of pollution for salt lake city? How does this compare to published values? \n",
        "* Do different census tracts have different levels of air quality? Are there trends related to socioeconomic status?\n",
        "\n",
        "\n",
        "Developing answers to these questions would allow for us to have a better understanding of the intricacies surrounding air pollution. How does it change over time and who is most affected? Such results could be helpful in informing personal health decisions or crafting informed public policy.\n",
        "\n"
      ]
    },
    {
      "metadata": {
        "id": "q999GQ6Na3o8",
        "colab_type": "text"
      },
      "cell_type": "markdown",
      "source": [
        "## Data\n",
        "\n",
        "Air Quality Sensor Data: \n",
        "\n",
        "\n",
        "> This contains historical data concerning air quality for the wasatch front area. In particular, it contains data from over 400+ sensors. The data from these sensors is captured every 1, 5, or 15 minutes (depending on sensor type). All sensors capture PM 2.5 data. Most sensors capture additional parameters (humidity, temperature, etc). \n",
        "\n",
        "> API Documentation can be found: https://docs.google.com/document/d/1TVWgqw2vrskWEOADshMvo_grOurmvlLzRRhfBh_gzFg/edit?usp=sharing\n",
        "\n",
        "\n",
        "Weather Data: \n",
        "\n",
        "> All weather data will be obtained through DarkSky.io's time machine weather API. This will provide hourly weather data for a given latitude and longitude. \n",
        "\n",
        "> https://darksky.net/dev/docs#response-format\n",
        "\n",
        "Elevation Data: \n",
        "\n",
        "> This contains elevation data. This api will be used to obtain the elevation of each sensor that is analyzed. \n",
        "> https://developers.google.com/maps/documentation/elevation/start\n",
        "\n",
        "School District Income Data: \n",
        "> https://www.slcschools.org/schools/district-demographics/documents/2017-2018-low-income-report/english/\n"
      ]
    },
    {
      "metadata": {
        "id": "GjmHACT5a5cZ",
        "colab_type": "text"
      },
      "cell_type": "markdown",
      "source": [
        "## Ethical Considerations\n",
        "\n"
      ]
    },
    {
      "metadata": {
        "id": "wJGkM_kjbHGJ",
        "colab_type": "text"
      },
      "cell_type": "markdown",
      "source": [
        "## Data Processing\n",
        "\n",
        "Data cleanup will be pretty minimal as we'll be using APIs that have a structured response format; however, there will be a significant data consolidation purpose. We'll have to combine the sensor readings data with the data from the weather API and Elevation data. However, once the data has been collected, this will involve completing join between the different data frames. \n"
      ]
    },
    {
      "metadata": {
        "id": "Ow9GwRIdbQ9G",
        "colab_type": "text"
      },
      "cell_type": "markdown",
      "source": [
        "## Exploratory Analysis\n",
        "\n",
        "**Visualization 1:** Map of Sensor Locations\n",
        "> A map will be created to visualize where the sensors are located on our map.\n",
        "\n",
        "**Visualization 2:** Correlation map of how variables correlate \n",
        "  > A heatmap correlation map will be used to indicate relationships between variables.\n",
        "  \n",
        "**Visualization 3:** Scatterplot matrix of how variables correlate\n",
        ">This will be used to see if there are any interesting visual trends in the data.\n",
        "\n",
        "**Visualization 4:** Elevation and temperature during an inversion\n",
        ">Elevation will be plotted against temperature. This will be used to see if we can visualize a temperature inversion. "
      ]
    },
    {
      "metadata": {
        "id": "JFgUy6G8bT1_",
        "colab_type": "text"
      },
      "cell_type": "markdown",
      "source": [
        "## Analysis Methodology\n",
        "There are a variety of analysis methods that we wish to employee to analyze our data. \n",
        "\n",
        "**Method 1: Clustering (Must Do)** \n",
        "\n",
        ">Cluster based on elevation:\n",
        ">>Look at relevant statistics for the groups. Can we analyze group properties to determine correlation with other variables?\n",
        "\n",
        ">Cluster based on location (lat lng):\n",
        ">>Determine the clusters based on location. Can we utilize these clusters as a way of analyzing general areas of interest?\n",
        ">> Such analysis would be useful to determine how different areas are naturally grouped together and if they exhibit worse air quality. \n",
        "\n",
        "**Method 2: Classification (Nice to Do)**\n",
        "\n",
        ">Conditions Classification: \n",
        ">> Are we inside of an inversion or not? Can we classify a time slice of sensor data as being in an inversion or not?\n",
        "\n",
        ">Outlier Detection: \n",
        ">> We know that some of the sensors 'misbehave' and produce erroneously high data. Whether this is from a computational malfunction or a sensor error, this data tends to be recorded as an outlier. Can we classify which sensors are outliers during a specific time? \n",
        ">> This will be useful to determine if a sensor is misbehaving and should be excluded from analysis. Additionally, this could be useful to determine if there are spikes during times of high traffic (such as rush hour).\n",
        "\n",
        "**Method 3: Deep Learning Model (Nice to Do)**\n",
        "\n",
        ">Build a deep learning model to forecast air quality. \n",
        ">> Air quality forecasting is an important issue for use in helping people make decisions based upon pollution in the future. There have been numerous attempts at building different deep learning models for this purpose. Can we train a convolutional LSTM to understand trends in air quality and weather data?\n",
        "\n",
        "**Method 4: Linear Regressions (Must Do)**\n",
        "> Used to determine relationships between variables. \n",
        ">> The correlation of different variables of a sensor (ie latitude, longitude, elevation, temperature, humidity, etc…) could be useful to understand how different factors affect air quality. At given instances of time, do certain relationships exist? What does an analysis of these relationships look like over time? \n",
        ">> This will be used to answer questions related to what parameters have relationships with air pollution. \n"
      ]
    },
    {
      "metadata": {
        "id": "8G7-xOSEbVuw",
        "colab_type": "text"
      },
      "cell_type": "markdown",
      "source": [
        "## Project Schedule\n",
        "\n",
        "Week of March 4th : Obtaining Data, Initial Analysis.\n",
        "> This week will focus on obtaining sensor data, historical weather data, and elevation data for all of the sensors. Using this data, we will conduct an initial analysis that will involve creating some of the visualizations discussed in the exploratory data analysis section.\n",
        "\n",
        "Week of March 11th : Cleaning Data, Finished Exploratory Analysis.\n",
        "> The data obtained in the previous week will be merged together to create a centralized pandas dataframe. This will allow for analysis to be conducted on a centralized data frame without the need to stitch different data frames together to conduct our individual analysis. During this week, we will finish our exploratory analysis.\n",
        "\n",
        "Week of March 18th : Variable Analysis.\n",
        "> We will extend our exploratory data analysis and look into more in depth relationships between different parameters. This will heavily utilize the methods discussed in class such as regression.\n",
        "\n",
        "Week of March 25th : Clustering Analysis\n",
        "> This week, clustering analysis will be performed on our data set. This will involve classifying based upon location and elevation.\n",
        "\n",
        "Week of April 1st : Classification Analysis\n",
        "> This week, classification of outliers will be performed on our data as well as classification of inversion states.\n",
        "\n",
        "Week of April 8th : Develop Convolutional LSTM for Analysis.\n",
        "> A convolutional LSTM will be developed to analyze the sensor data. This was placed last in the project timeline as it represents the most difficult method to implement.\n",
        "\n"
      ]
    },
    {
      "metadata": {
        "id": "ArIjKMkidErL",
        "colab_type": "text"
      },
      "cell_type": "markdown",
      "source": [
        "## Bibliography"
      ]
    },
    {
      "metadata": {
        "id": "klM2humJD38Z",
        "colab_type": "code",
        "colab": {}
      },
      "cell_type": "code",
      "source": [
        ""
      ],
      "execution_count": 0,
      "outputs": []
    }
  ]
}