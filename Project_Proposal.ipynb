{
  "nbformat": 4,
  "nbformat_minor": 0,
  "metadata": {
    "colab": {
      "name": "Project Proposal.ipynb",
      "version": "0.3.2",
      "provenance": [],
      "include_colab_link": true
    },
    "kernelspec": {
      "name": "python3",
      "display_name": "Python 3"
    }
  },
  "cells": [
    {
      "cell_type": "markdown",
      "metadata": {
        "id": "view-in-github",
        "colab_type": "text"
      },
      "source": [
        "<a href=\"https://colab.research.google.com/github/dwootton/Utah-Air-Explorers/blob/master/Project_Proposal.ipynb\" target=\"_parent\"><img src=\"https://colab.research.google.com/assets/colab-badge.svg\" alt=\"Open In Colab\"/></a>"
      ]
    },
    {
      "metadata": {
        "id": "n-bMBxngX8HA",
        "colab_type": "text"
      },
      "cell_type": "markdown",
      "source": [
        "# Project Proposal: Utah Air Explorers\n",
        "*COMP 5360 / MATH 4100, University of Utah, http://datasciencecourse.net/*\n",
        "\n",
        "*Names:* Dylan Wootton (u0785389), Joshua Cragun (u1025691)\n",
        "\n",
        "*Emails:* wootton.dylan@gmail.com, jmcragun@gmail.com\n",
        "\n"
      ]
    },
    {
      "metadata": {
        "id": "tVR-aVhdapsV",
        "colab_type": "text"
      },
      "cell_type": "markdown",
      "source": [
        "## Background and Motivation\n",
        "\n"
      ]
    },
    {
      "metadata": {
        "id": "NN2sSvgJay_5",
        "colab_type": "text"
      },
      "cell_type": "markdown",
      "source": [
        "## Project Objectives"
      ]
    },
    {
      "metadata": {
        "id": "q999GQ6Na3o8",
        "colab_type": "text"
      },
      "cell_type": "markdown",
      "source": [
        "## Data"
      ]
    },
    {
      "metadata": {
        "id": "GjmHACT5a5cZ",
        "colab_type": "text"
      },
      "cell_type": "markdown",
      "source": [
        "## Ethical Considerations"
      ]
    },
    {
      "metadata": {
        "id": "wJGkM_kjbHGJ",
        "colab_type": "text"
      },
      "cell_type": "markdown",
      "source": [
        "## Data Processing"
      ]
    },
    {
      "metadata": {
        "id": "Ow9GwRIdbQ9G",
        "colab_type": "text"
      },
      "cell_type": "markdown",
      "source": [
        "## Exploratory Analysis"
      ]
    },
    {
      "metadata": {
        "id": "JFgUy6G8bT1_",
        "colab_type": "text"
      },
      "cell_type": "markdown",
      "source": [
        "## Analysis Methodology"
      ]
    },
    {
      "metadata": {
        "id": "8G7-xOSEbVuw",
        "colab_type": "text"
      },
      "cell_type": "markdown",
      "source": [
        "## Project Schedule\n",
        "\n",
        "Week of March 4th : Obtaining Data, Inital Analysis.\n",
        "\n",
        "\n",
        "> This week will focus on obtaining sensor data, hisotrical weather data, and elevation data for all of the sensors. Using this data, we \n",
        "\n",
        "\n",
        "\n",
        "Week of March 11th : Cleaning Data, Finished Exploratory Analysis. \n",
        "\n",
        "Week of March 18th : Variable Analysis.\n",
        "\n",
        "Week of March 25th : Clustering Analysis\n",
        "\n",
        "Week of April 1st : Classification Analysis\n",
        "\n",
        "Week of April 8th : Develop Convolutional LSTM for Analysis.\n",
        "\n",
        "Week of April 15th : Wrap up project. Write up results in notebook. Film Demo Video. \n"
      ]
    },
    {
      "metadata": {
        "id": "ArIjKMkidErL",
        "colab_type": "text"
      },
      "cell_type": "markdown",
      "source": [
        "## Bibliography"
      ]
    },
    {
      "metadata": {
        "id": "klM2humJD38Z",
        "colab_type": "code",
        "colab": {}
      },
      "cell_type": "code",
      "source": [
        ""
      ],
      "execution_count": 0,
      "outputs": []
    }
  ]
}